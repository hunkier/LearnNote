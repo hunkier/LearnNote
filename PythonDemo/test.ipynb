{
 "cells": [
  {
   "cell_type": "code",
   "execution_count": 265,
   "metadata": {
    "collapsed": true
   },
   "outputs": [
    {
     "name": "stdout",
     "output_type": "stream",
     "text": [
      "Copyright (c) 2001-2019 Python Software Foundation.\n",
      "All Rights Reserved.\n",
      "\n",
      "Copyright (c) 2000 BeOpen.com.\n",
      "All Rights Reserved.\n",
      "\n",
      "Copyright (c) 1995-2001 Corporation for National Research Initiatives.\n",
      "All Rights Reserved.\n",
      "\n",
      "Copyright (c) 1991-1995 Stichting Mathematisch Centrum, Amsterdam.\n",
      "All Rights Reserved.\n"
     ]
    }
   ],
   "source": [
    "import json\n",
    "from statsmodels.tsa.exponential_smoothing.ets import ETSModel\n",
    "import pandas as pd\n",
    "\n",
    "def __forecast_ets_model(history_df, history_days):\n",
    "    history_df = history_df.set_index('date')\n",
    "    shape_0 = history_df.shape[0]\n",
    "    data_train = history_df\n",
    "    if (shape_0 >= 60):\n",
    "        data_train = history_df.iloc[-history_days:, :]\n",
    "    elif (shape_0 > 7):\n",
    "        data_train = history_df.iloc[-min(shape_0, history_days):, :]\n",
    "\n",
    "    seasonal = 'mul'\n",
    "    seasonal_periods = 7\n",
    "    if (shape_0 <= 7 or history_days <= 7):\n",
    "        seasonal = None\n",
    "        seasonal_periods = None\n",
    "    data_train = pd.Series(data_train['sales']).astype('float64')\n",
    "    ets_model_holdout = ETSModel(data_train, error='mul', trend='add', seasonal=seasonal,\n",
    "                                 damped_trend=True, seasonal_periods=seasonal_periods,\n",
    "                                 initial_level=data_train.values.mean(), freq='D')\n",
    "    ets_fitted_holdout = ets_model_holdout.fit()\n",
    "\n",
    "    return ets_fitted_holdout\n",
    "\n",
    "copyright()"
   ]
  },
  {
   "cell_type": "code",
   "execution_count": 266,
   "outputs": [],
   "source": [
    "import pandas as pd\n",
    "sales_data = pd.read_excel('milk-day-sales.xlsx')\n",
    "date_series =  pd.Series(sales_data['date'])\n",
    "sales_data['date'] = pd.date_range(start=date_series[0] ,periods=len(date_series), freq='D').strftime('%Y-%m-%d')\n",
    "# sales_data = sales_data.set_index('date')\n",
    "# sales_data.head(), sales_data.tail()\n",
    "# date_series[0],date_series[len(date_series)-1]"
   ],
   "metadata": {
    "collapsed": false,
    "pycharm": {
     "name": "#%%\n"
    }
   }
  },
  {
   "cell_type": "code",
   "execution_count": 267,
   "outputs": [
    {
     "name": "stdout",
     "output_type": "stream",
     "text": [
      "[{\"date\":\"2021-05-13\",\"sales\":676},{\"date\":\"2021-05-14\",\"sales\":667},{\"date\":\"2021-05-15\",\"sales\":372},{\"date\":\"2021-05-16\",\"sales\":259},{\"date\":\"2021-05-17\",\"sales\":270},{\"date\":\"2021-05-18\",\"sales\":139},{\"date\":\"2021-05-19\",\"sales\":298},{\"date\":\"2021-05-20\",\"sales\":304},{\"date\":\"2021-05-21\",\"sales\":243},{\"date\":\"2021-05-22\",\"sales\":293},{\"date\":\"2021-05-23\",\"sales\":227},{\"date\":\"2021-05-24\",\"sales\":103},{\"date\":\"2021-05-25\",\"sales\":428},{\"date\":\"2021-05-26\",\"sales\":462},{\"date\":\"2021-05-27\",\"sales\":309},{\"date\":\"2021-05-28\",\"sales\":374},{\"date\":\"2021-05-29\",\"sales\":196},{\"date\":\"2021-05-30\",\"sales\":266},{\"date\":\"2021-05-31\",\"sales\":163},{\"date\":\"2021-06-01\",\"sales\":317},{\"date\":\"2021-06-02\",\"sales\":283},{\"date\":\"2021-06-03\",\"sales\":358},{\"date\":\"2021-06-04\",\"sales\":418},{\"date\":\"2021-06-05\",\"sales\":450},{\"date\":\"2021-06-06\",\"sales\":496},{\"date\":\"2021-06-07\",\"sales\":349},{\"date\":\"2021-06-08\",\"sales\":490},{\"date\":\"2021-06-09\",\"sales\":485},{\"date\":\"2021-06-10\",\"sales\":440},{\"date\":\"2021-06-11\",\"sales\":443},{\"date\":\"2021-06-12\",\"sales\":424},{\"date\":\"2021-06-13\",\"sales\":399},{\"date\":\"2021-06-14\",\"sales\":458},{\"date\":\"2021-06-15\",\"sales\":336},{\"date\":\"2021-06-16\",\"sales\":330},{\"date\":\"2021-06-17\",\"sales\":467},{\"date\":\"2021-06-18\",\"sales\":349},{\"date\":\"2021-06-19\",\"sales\":156},{\"date\":\"2021-06-20\",\"sales\":4},{\"date\":\"2021-06-21\",\"sales\":765},{\"date\":\"2021-06-22\",\"sales\":478},{\"date\":\"2021-06-23\",\"sales\":122},{\"date\":\"2021-06-24\",\"sales\":481},{\"date\":\"2021-06-25\",\"sales\":173},{\"date\":\"2021-06-26\",\"sales\":4},{\"date\":\"2021-06-27\",\"sales\":659},{\"date\":\"2021-06-28\",\"sales\":777},{\"date\":\"2021-06-29\",\"sales\":337},{\"date\":\"2021-06-30\",\"sales\":363},{\"date\":\"2021-07-01\",\"sales\":237},{\"date\":\"2021-07-02\",\"sales\":180},{\"date\":\"2021-07-03\",\"sales\":78},{\"date\":\"2021-07-04\",\"sales\":374},{\"date\":\"2021-07-05\",\"sales\":217},{\"date\":\"2021-07-06\",\"sales\":274},{\"date\":\"2021-07-07\",\"sales\":348},{\"date\":\"2021-07-08\",\"sales\":302},{\"date\":\"2021-07-09\",\"sales\":287},{\"date\":\"2021-07-10\",\"sales\":212},{\"date\":\"2021-07-11\",\"sales\":597},{\"date\":\"2021-07-12\",\"sales\":410},{\"date\":\"2021-07-13\",\"sales\":289},{\"date\":\"2021-07-14\",\"sales\":179},{\"date\":\"2021-07-15\",\"sales\":337},{\"date\":\"2021-07-16\",\"sales\":272},{\"date\":\"2021-07-17\",\"sales\":150},{\"date\":\"2021-07-18\",\"sales\":203},{\"date\":\"2021-07-19\",\"sales\":186},{\"date\":\"2021-07-20\",\"sales\":182},{\"date\":\"2021-07-21\",\"sales\":183},{\"date\":\"2021-07-22\",\"sales\":260},{\"date\":\"2021-07-23\",\"sales\":277},{\"date\":\"2021-07-24\",\"sales\":210},{\"date\":\"2021-07-25\",\"sales\":262},{\"date\":\"2021-07-26\",\"sales\":199},{\"date\":\"2021-07-27\",\"sales\":162},{\"date\":\"2021-07-28\",\"sales\":161},{\"date\":\"2021-07-29\",\"sales\":77},{\"date\":\"2021-07-30\",\"sales\":90},{\"date\":\"2021-07-31\",\"sales\":249},{\"date\":\"2021-08-01\",\"sales\":414},{\"date\":\"2021-08-02\",\"sales\":115},{\"date\":\"2021-08-03\",\"sales\":123},{\"date\":\"2021-08-04\",\"sales\":605},{\"date\":\"2021-08-05\",\"sales\":477},{\"date\":\"2021-08-06\",\"sales\":322},{\"date\":\"2021-08-07\",\"sales\":60},{\"date\":\"2021-08-08\",\"sales\":573},{\"date\":\"2021-08-09\",\"sales\":586},{\"date\":\"2021-08-10\",\"sales\":369},{\"date\":\"2021-08-11\",\"sales\":527},{\"date\":\"2021-08-12\",\"sales\":337},{\"date\":\"2021-08-13\",\"sales\":288},{\"date\":\"2021-08-14\",\"sales\":454},{\"date\":\"2021-08-15\",\"sales\":565},{\"date\":\"2021-08-16\",\"sales\":427},{\"date\":\"2021-08-17\",\"sales\":373},{\"date\":\"2021-08-18\",\"sales\":414},{\"date\":\"2021-08-19\",\"sales\":500},{\"date\":\"2021-08-20\",\"sales\":381},{\"date\":\"2021-08-21\",\"sales\":306},{\"date\":\"2021-08-22\",\"sales\":484},{\"date\":\"2021-08-23\",\"sales\":404},{\"date\":\"2021-08-24\",\"sales\":408},{\"date\":\"2021-08-25\",\"sales\":296},{\"date\":\"2021-08-26\",\"sales\":525},{\"date\":\"2021-08-27\",\"sales\":399},{\"date\":\"2021-08-28\",\"sales\":147},{\"date\":\"2021-08-29\",\"sales\":312},{\"date\":\"2021-08-30\",\"sales\":345},{\"date\":\"2021-08-31\",\"sales\":267},{\"date\":\"2021-09-01\",\"sales\":319},{\"date\":\"2021-09-02\",\"sales\":534},{\"date\":\"2021-09-03\",\"sales\":264},{\"date\":\"2021-09-04\",\"sales\":164},{\"date\":\"2021-09-05\",\"sales\":699},{\"date\":\"2021-09-06\",\"sales\":576},{\"date\":\"2021-09-07\",\"sales\":504},{\"date\":\"2021-09-08\",\"sales\":427},{\"date\":\"2021-09-09\",\"sales\":876},{\"date\":\"2021-09-10\",\"sales\":762},{\"date\":\"2021-09-11\",\"sales\":307},{\"date\":\"2021-09-12\",\"sales\":1118},{\"date\":\"2021-09-13\",\"sales\":846},{\"date\":\"2021-09-14\",\"sales\":631},{\"date\":\"2021-09-15\",\"sales\":510},{\"date\":\"2021-09-16\",\"sales\":478},{\"date\":\"2021-09-17\",\"sales\":463},{\"date\":\"2021-09-18\",\"sales\":404},{\"date\":\"2021-09-19\",\"sales\":350},{\"date\":\"2021-09-20\",\"sales\":1263},{\"date\":\"2021-09-21\",\"sales\":774},{\"date\":\"2021-09-22\",\"sales\":625},{\"date\":\"2021-09-23\",\"sales\":599},{\"date\":\"2021-09-24\",\"sales\":441},{\"date\":\"2021-09-25\",\"sales\":454},{\"date\":\"2021-09-26\",\"sales\":570},{\"date\":\"2021-09-27\",\"sales\":563},{\"date\":\"2021-09-28\",\"sales\":583},{\"date\":\"2021-09-29\",\"sales\":472},{\"date\":\"2021-09-30\",\"sales\":214},{\"date\":\"2021-10-01\",\"sales\":348},{\"date\":\"2021-10-02\",\"sales\":448},{\"date\":\"2021-10-03\",\"sales\":172},{\"date\":\"2021-10-04\",\"sales\":33},{\"date\":\"2021-10-05\",\"sales\":25},{\"date\":\"2021-10-06\",\"sales\":422},{\"date\":\"2021-10-07\",\"sales\":381},{\"date\":\"2021-10-08\",\"sales\":508},{\"date\":\"2021-10-09\",\"sales\":369},{\"date\":\"2021-10-10\",\"sales\":361}]\n"
     ]
    }
   ],
   "source": [
    "json_str = sales_data.to_json(orient=\"records\")\n",
    "print(json_str)"
   ],
   "metadata": {
    "collapsed": false,
    "pycharm": {
     "name": "#%%\n"
    }
   }
  },
  {
   "cell_type": "code",
   "execution_count": 268,
   "outputs": [
    {
     "data": {
      "text/plain": "            sales\ndate             \n2021-05-13    676\n2021-05-14    667\n2021-05-15    372\n2021-05-16    259\n2021-05-17    270\n2021-05-18    139\n2021-05-19    298\n2021-05-20    304",
      "text/html": "<div>\n<style scoped>\n    .dataframe tbody tr th:only-of-type {\n        vertical-align: middle;\n    }\n\n    .dataframe tbody tr th {\n        vertical-align: top;\n    }\n\n    .dataframe thead th {\n        text-align: right;\n    }\n</style>\n<table border=\"1\" class=\"dataframe\">\n  <thead>\n    <tr style=\"text-align: right;\">\n      <th></th>\n      <th>sales</th>\n    </tr>\n    <tr>\n      <th>date</th>\n      <th></th>\n    </tr>\n  </thead>\n  <tbody>\n    <tr>\n      <th>2021-05-13</th>\n      <td>676</td>\n    </tr>\n    <tr>\n      <th>2021-05-14</th>\n      <td>667</td>\n    </tr>\n    <tr>\n      <th>2021-05-15</th>\n      <td>372</td>\n    </tr>\n    <tr>\n      <th>2021-05-16</th>\n      <td>259</td>\n    </tr>\n    <tr>\n      <th>2021-05-17</th>\n      <td>270</td>\n    </tr>\n    <tr>\n      <th>2021-05-18</th>\n      <td>139</td>\n    </tr>\n    <tr>\n      <th>2021-05-19</th>\n      <td>298</td>\n    </tr>\n    <tr>\n      <th>2021-05-20</th>\n      <td>304</td>\n    </tr>\n  </tbody>\n</table>\n</div>"
     },
     "execution_count": 268,
     "metadata": {},
     "output_type": "execute_result"
    }
   ],
   "source": [
    "json_str = '''\n",
    "[\n",
    "{\"date\":1621209600000,\"sales\":270},{\"date\":1621296000000,\"sales\":139},{\"date\":1621382400000,\"sales\":298},{\"date\":1621468800000,\"sales\":304},\n",
    "{\"date\":1620864000000,\"sales\":676},{\"date\":1620950400000,\"sales\":667},{\"date\":1621036800000,\"sales\":372},{\"date\":1621123200000,\"sales\":259}\n",
    "]\n",
    "'''\n",
    "json_data = pd.read_json(json_str)\n",
    "json_data = json_data.set_index('date')\n",
    "json_data = json_data.sort_index()\n",
    "# json_data.index = json_data['date']\n",
    "[].sort(reverse=True)\n",
    "json_data"
   ],
   "metadata": {
    "collapsed": false,
    "pycharm": {
     "name": "#%%\n"
    }
   }
  },
  {
   "cell_type": "code",
   "execution_count": 269,
   "outputs": [
    {
     "data": {
      "text/plain": "8"
     },
     "execution_count": 269,
     "metadata": {},
     "output_type": "execute_result"
    }
   ],
   "source": [
    "len(json_data.shape)\n",
    "json.dumps(json_data.shape)\n",
    "json_data.shape[0]"
   ],
   "metadata": {
    "collapsed": false,
    "pycharm": {
     "name": "#%%\n"
    }
   }
  },
  {
   "cell_type": "code",
   "execution_count": 270,
   "outputs": [
    {
     "name": "stdout",
     "output_type": "stream",
     "text": [
      "RUNNING THE L-BFGS-B CODE\n",
      "\n",
      "           * * *\n",
      "\n",
      "Machine precision = 2.220D-16\n",
      " N =           12     M =           10\n",
      "\n",
      "At X0         1 variables are exactly at the bounds\n",
      "\n",
      "At iterate    0    f=  7.26317D+00    |proj g|=  1.40328D+00\n",
      "\n",
      "At iterate    1    f=  7.11471D+00    |proj g|=  1.04463D+00\n",
      "\n",
      "At iterate    2    f=  6.92348D+00    |proj g|=  8.93253D-01\n",
      "\n",
      "At iterate    3    f=  6.79128D+00    |proj g|=  6.81952D-01\n",
      "\n",
      "At iterate    4    f=  6.71114D+00    |proj g|=  3.34639D-01\n",
      "\n",
      "At iterate    5    f=  6.66681D+00    |proj g|=  1.70771D-01\n",
      "\n",
      "At iterate    6    f=  6.64758D+00    |proj g|=  6.08481D-02\n",
      "\n",
      "At iterate    7    f=  6.63932D+00    |proj g|=  4.97184D-02\n",
      "\n",
      "At iterate    8    f=  6.63345D+00    |proj g|=  6.06942D-02\n",
      "\n",
      "At iterate    9    f=  6.61945D+00    |proj g|=  1.21007D-01\n",
      "\n",
      "At iterate   10    f=  6.61053D+00    |proj g|=  8.34738D-02\n",
      "\n",
      "At iterate   11    f=  6.60456D+00    |proj g|=  2.89996D-02\n",
      "\n",
      "At iterate   12    f=  6.60441D+00    |proj g|=  2.82722D-02\n",
      "\n",
      "At iterate   13    f=  6.60216D+00    |proj g|=  3.14591D-02\n",
      "\n",
      "At iterate   14    f=  6.60165D+00    |proj g|=  9.36815D-03\n",
      "\n",
      "At iterate   15    f=  6.60148D+00    |proj g|=  7.33928D-03\n",
      "\n",
      "At iterate   16    f=  6.60142D+00    |proj g|=  7.98606D-03\n",
      "\n",
      "At iterate   17    f=  6.60138D+00    |proj g|=  4.84404D-03\n",
      "\n",
      "At iterate   18    f=  6.60129D+00    |proj g|=  8.43166D-03\n",
      "\n",
      "At iterate   19    f=  6.60126D+00    |proj g|=  4.23510D-03\n",
      "\n",
      "At iterate   20    f=  6.60126D+00    |proj g|=  6.87628D-04\n",
      "\n",
      "At iterate   21    f=  6.60126D+00    |proj g|=  6.93756D-04\n",
      "\n",
      "At iterate   22    f=  6.60126D+00    |proj g|=  7.48734D-04\n",
      "\n",
      "At iterate   23    f=  6.60126D+00    |proj g|=  2.42473D-04\n",
      "\n",
      "At iterate   24    f=  6.60126D+00    |proj g|=  1.87583D-04\n",
      "\n",
      "At iterate   25    f=  6.60126D+00    |proj g|=  3.36708D-04\n",
      "\n",
      "At iterate   26    f=  6.60125D+00    |proj g|=  3.02958D-04\n",
      "\n",
      "At iterate   27    f=  6.60125D+00    |proj g|=  1.00790D-03\n",
      "\n",
      "At iterate   28    f=  6.60125D+00    |proj g|=  5.10170D-04\n",
      "\n",
      "At iterate   29    f=  6.60125D+00    |proj g|=  7.11964D-04\n",
      "\n",
      "At iterate   30    f=  6.60125D+00    |proj g|=  1.38680D-03\n",
      "\n",
      "At iterate   31    f=  6.60125D+00    |proj g|=  2.65894D-03\n",
      "\n",
      "At iterate   32    f=  6.60124D+00    |proj g|=  3.72902D-03\n",
      "\n",
      "At iterate   33    f=  6.60123D+00    |proj g|=  4.63602D-03\n",
      "\n",
      "At iterate   34    f=  6.60120D+00    |proj g|=  5.28315D-03\n",
      "\n",
      "At iterate   35    f=  6.60113D+00    |proj g|=  5.99361D-03\n",
      "\n",
      "At iterate   36    f=  6.60099D+00    |proj g|=  5.95168D-03\n",
      "\n",
      "At iterate   37    f=  6.60077D+00    |proj g|=  8.09859D-03\n",
      "\n",
      "At iterate   38    f=  6.60073D+00    |proj g|=  1.72317D-02\n",
      "\n",
      "At iterate   39    f=  6.60056D+00    |proj g|=  1.17343D-02\n",
      "\n",
      "At iterate   40    f=  6.60049D+00    |proj g|=  7.52811D-03\n",
      "\n",
      "At iterate   41    f=  6.60046D+00    |proj g|=  1.56017D-03\n",
      "\n",
      "At iterate   42    f=  6.60046D+00    |proj g|=  9.64118D-04\n",
      "\n",
      "At iterate   43    f=  6.60045D+00    |proj g|=  4.42402D-04\n",
      "\n",
      "At iterate   44    f=  6.60045D+00    |proj g|=  1.78613D-04\n",
      "\n",
      "At iterate   45    f=  6.60045D+00    |proj g|=  1.23546D-04\n",
      "\n",
      "At iterate   46    f=  6.60045D+00    |proj g|=  2.62013D-05\n",
      "\n",
      "At iterate   47    f=  6.60045D+00    |proj g|=  3.15303D-05\n",
      "\n",
      "           * * *\n",
      "\n",
      "Tit   = total number of iterations\n",
      "Tnf   = total number of function evaluations\n",
      "Tnint = total number of segments explored during Cauchy searches\n",
      "Skip  = number of BFGS updates skipped\n",
      "Nact  = number of active bounds at final generalized Cauchy point\n",
      "Projg = norm of the final projected gradient\n",
      "F     = final function value\n",
      "\n",
      "           * * *\n",
      "\n",
      "   N    Tit     Tnf  Tnint  Skip  Nact     Projg        F\n",
      "   12     47     50     50     0     1   3.153D-05   6.600D+00\n",
      "  F =   6.6004524976276793     \n",
      "\n",
      "CONVERGENCE: REL_REDUCTION_OF_F_<=_FACTR*EPSMCH             \n",
      "RUNNING THE L-BFGS-B CODE\n",
      "\n",
      "           * * *\n",
      "\n",
      "Machine precision = 2.220D-16\n",
      " N =            5     M =           10\n",
      "\n",
      "At X0         1 variables are exactly at the bounds\n",
      "\n",
      "At iterate    0    f=  7.87496D+00    |proj g|=  1.80000D-01\n",
      "\n",
      "At iterate    1    f=  7.40073D+00    |proj g|=  7.52481D-02\n",
      "\n",
      "At iterate    2    f=  7.30388D+00    |proj g|=  4.20597D-02\n",
      "\n",
      "At iterate    3    f=  7.29828D+00    |proj g|=  9.88261D-01\n",
      "\n",
      "At iterate    4    f=  7.28789D+00    |proj g|=  9.83725D-01\n",
      "\n",
      "At iterate    5    f=  7.27993D+00    |proj g|=  7.20887D-01\n",
      "\n",
      "At iterate    6    f=  7.27416D+00    |proj g|=  2.55616D-02\n",
      "\n",
      "At iterate    7    f=  7.26572D+00    |proj g|=  4.35811D-01\n",
      "\n",
      "At iterate    8    f=  7.24187D+00    |proj g|=  9.85720D-01\n",
      "\n",
      "At iterate    9    f=  7.17192D+00    |proj g|=  9.88717D-01\n",
      "\n",
      "At iterate   10    f=  7.05003D+00    |proj g|=  9.90557D-01\n",
      "\n",
      "At iterate   11    f=  6.43563D+00    |proj g|=  1.80000D-01\n",
      "\n",
      "At iterate   12    f=  6.41941D+00    |proj g|=  7.68249D-02\n",
      "\n",
      "At iterate   13    f=  6.41833D+00    |proj g|=  5.72252D-02\n",
      "\n",
      "At iterate   14    f=  6.41461D+00    |proj g|=  9.32608D-02\n",
      "\n",
      "At iterate   15    f=  6.41425D+00    |proj g|=  2.74606D-02\n",
      "\n",
      "At iterate   16    f=  6.41416D+00    |proj g|=  1.01545D-03\n",
      "\n",
      "At iterate   17    f=  6.41416D+00    |proj g|=  1.01847D-03\n",
      "\n",
      "At iterate   18    f=  6.41416D+00    |proj g|=  1.18385D-03\n",
      "\n",
      "At iterate   19    f=  6.41411D+00    |proj g|=  9.46603D-03\n",
      "\n",
      "At iterate   20    f=  6.41401D+00    |proj g|=  1.92610D-02\n",
      "\n",
      "At iterate   21    f=  6.41370D+00    |proj g|=  3.65468D-02\n",
      "\n",
      "At iterate   22    f=  6.41294D+00    |proj g|=  5.20848D-02\n",
      "\n",
      "At iterate   23    f=  6.41102D+00    |proj g|=  2.99957D-02\n",
      "\n",
      "At iterate   24    f=  6.40806D+00    |proj g|=  1.60076D-03\n",
      "\n",
      "At iterate   25    f=  6.35879D+00    |proj g|=  1.80000D-01\n",
      "\n",
      "At iterate   26    f=  6.20699D+00    |proj g|=  1.60267D-01\n",
      "\n",
      "At iterate   27    f=  6.20576D+00    |proj g|=  1.59709D-01\n",
      "\n",
      "At iterate   28    f=  6.17498D+00    |proj g|=  9.53539D-03\n",
      "\n",
      "At iterate   29    f=  6.03744D+00    |proj g|=  2.17995D-03\n",
      "\n",
      "At iterate   30    f=  6.03372D+00    |proj g|=  7.38342D-04\n",
      "\n",
      "At iterate   31    f=  6.03236D+00    |proj g|=  7.14983D-05\n",
      "\n",
      "At iterate   32    f=  6.03236D+00    |proj g|=  1.35003D-05\n",
      "\n",
      "At iterate   33    f=  6.03236D+00    |proj g|=  1.86518D-06\n",
      "\n",
      "           * * *\n",
      "\n",
      "Tit   = total number of iterations\n",
      "Tnf   = total number of function evaluations\n",
      "Tnint = total number of segments explored during Cauchy searches\n",
      "Skip  = number of BFGS updates skipped\n",
      "Nact  = number of active bounds at final generalized Cauchy point\n",
      "Projg = norm of the final projected gradient\n",
      "F     = final function value\n",
      "\n",
      "           * * *\n",
      "\n",
      "   N    Tit     Tnf  Tnint  Skip  Nact     Projg        F\n",
      "    5     33     57     39     0     3   1.865D-06   6.032D+00\n",
      "  F =   6.0323554176425267     \n",
      "\n",
      "CONVERGENCE: NORM_OF_PROJECTED_GRADIENT_<=_PGTOL            \n"
     ]
    },
    {
     "data": {
      "text/plain": "(                his_60       his_7  forecast_float        date  forecast\n datetime                                                                \n 2021-10-10  322.952916  487.177069      421.487408  2021-10-10       421\n 2021-10-11  336.264726  519.763310      446.363876  2021-10-11       446\n 2021-10-12  269.280675  545.842396      435.217708  2021-10-12       435\n 2021-10-13  438.527572  566.705665      515.434428  2021-10-13       515\n 2021-10-14  384.031294  583.396281      503.650286  2021-10-14       503\n 2021-10-15  427.671438  596.748773      529.117839  2021-10-15       529\n 2021-10-16  352.117290  607.430767      505.305376  2021-10-16       505\n 2021-10-17  343.203402  615.976362      506.867178  2021-10-17       506\n 2021-10-18  336.255334  622.812838      508.189836  2021-10-18       508\n 2021-10-19  269.274185  628.282018      484.678885  2021-10-19       484\n 2021-10-20  438.518452  632.657363      555.001799  2021-10-20       555\n 2021-10-21  384.024402  636.157639      535.304344  2021-10-21       535\n 2021-10-22  427.664816  638.957859      554.440642  2021-10-22       554\n 2021-10-23  352.112585  641.198036      525.563855  2021-10-23       525\n 2021-10-24  343.199445  642.990177      523.073884  2021-10-24       523\n 2021-10-25  336.251988  644.423890      521.155129  2021-10-25       521\n 2021-10-26  269.271873  645.570860      495.051265  2021-10-26       495\n 2021-10-27  438.515204  646.488437      563.299143  2021-10-27       563\n 2021-10-28  384.021947  647.222498      541.942277  2021-10-28       541\n 2021-10-29  427.662457  647.809746      559.750831  2021-10-29       559\n 2021-10-30  352.110909  648.279545      529.812091  2021-10-30       529\n 2021-10-31  343.198036  648.655385      526.472445  2021-10-31       526,\n                   date  forecast\n datetime                        \n 2021-10-10  2021-10-10       421\n 2021-10-11  2021-10-11       446\n 2021-10-12  2021-10-12       435\n 2021-10-13  2021-10-13       515\n 2021-10-14  2021-10-14       503\n 2021-10-15  2021-10-15       529\n 2021-10-16  2021-10-16       505\n 2021-10-17  2021-10-17       506\n 2021-10-18  2021-10-18       508\n 2021-10-19  2021-10-19       484\n 2021-10-20  2021-10-20       555\n 2021-10-21  2021-10-21       535\n 2021-10-22  2021-10-22       554\n 2021-10-23  2021-10-23       525\n 2021-10-24  2021-10-24       523\n 2021-10-25  2021-10-25       521\n 2021-10-26  2021-10-26       495\n 2021-10-27  2021-10-27       563\n 2021-10-28  2021-10-28       541\n 2021-10-29  2021-10-29       559\n 2021-10-30  2021-10-30       529\n 2021-10-31  2021-10-31       526)"
     },
     "execution_count": 270,
     "metadata": {},
     "output_type": "execute_result"
    }
   ],
   "source": [
    "from datetime import datetime\n",
    "\n",
    "history_60_ets_model = __forecast_ets_model(sales_data, 60)\n",
    "history_7_ets_model = __forecast_ets_model(sales_data, 7)\n",
    "start = '2021-10-10'\n",
    "end = '2021-10-31'\n",
    "forecast_df = pd.DataFrame({\n",
    "                             'his_60': history_60_ets_model.predict(start=start,end=end),\n",
    "                             'his_7': history_7_ets_model.predict(start=start,end=end) },\n",
    "                           index = pd.date_range(start=start,end=end, name='datetime'))\n",
    "\n",
    "forecast_df['forecast_float'] = forecast_df['his_60']*0.4 + forecast_df['his_7']*0.6\n",
    "\n",
    "forecast_df['date'] = pd.date_range(start=start,end=end).strftime('%Y-%m-%d')\n",
    "forecast_df['forecast']  = pd.Series(forecast_df['forecast_float']).astype('int')\n",
    "# forecast_df['forecast'][0],forecast_df['forecast'][-1]\n",
    "result = forecast_df.loc[:,['date','forecast']]\n",
    "# result = result.set_index('date')\n",
    "forecast_df,\\\n",
    "result\n",
    "# print(result)"
   ],
   "metadata": {
    "collapsed": false,
    "pycharm": {
     "name": "#%%\n"
    }
   }
  },
  {
   "cell_type": "code",
   "execution_count": 271,
   "outputs": [
    {
     "data": {
      "text/plain": "'[{\"date\":\"2021-10-10\",\"forecast\":421},{\"date\":\"2021-10-11\",\"forecast\":446},{\"date\":\"2021-10-12\",\"forecast\":435},{\"date\":\"2021-10-13\",\"forecast\":515},{\"date\":\"2021-10-14\",\"forecast\":503},{\"date\":\"2021-10-15\",\"forecast\":529},{\"date\":\"2021-10-16\",\"forecast\":505},{\"date\":\"2021-10-17\",\"forecast\":506},{\"date\":\"2021-10-18\",\"forecast\":508},{\"date\":\"2021-10-19\",\"forecast\":484},{\"date\":\"2021-10-20\",\"forecast\":555},{\"date\":\"2021-10-21\",\"forecast\":535},{\"date\":\"2021-10-22\",\"forecast\":554},{\"date\":\"2021-10-23\",\"forecast\":525},{\"date\":\"2021-10-24\",\"forecast\":523},{\"date\":\"2021-10-25\",\"forecast\":521},{\"date\":\"2021-10-26\",\"forecast\":495},{\"date\":\"2021-10-27\",\"forecast\":563},{\"date\":\"2021-10-28\",\"forecast\":541},{\"date\":\"2021-10-29\",\"forecast\":559},{\"date\":\"2021-10-30\",\"forecast\":529},{\"date\":\"2021-10-31\",\"forecast\":526}]'"
     },
     "execution_count": 271,
     "metadata": {},
     "output_type": "execute_result"
    }
   ],
   "source": [
    "json_str = result.to_json(orient=\"records\")\n",
    "json_str"
   ],
   "metadata": {
    "collapsed": false,
    "pycharm": {
     "name": "#%%\n"
    }
   }
  }
 ],
 "metadata": {
  "kernelspec": {
   "display_name": "Python 3",
   "language": "python",
   "name": "python3"
  },
  "language_info": {
   "codemirror_mode": {
    "name": "ipython",
    "version": 2
   },
   "file_extension": ".py",
   "mimetype": "text/x-python",
   "name": "python",
   "nbconvert_exporter": "python",
   "pygments_lexer": "ipython2",
   "version": "2.7.6"
  }
 },
 "nbformat": 4,
 "nbformat_minor": 0
}